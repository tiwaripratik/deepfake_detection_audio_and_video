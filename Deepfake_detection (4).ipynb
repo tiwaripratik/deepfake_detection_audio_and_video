{
  "cells": [
    {
      "cell_type": "markdown",
      "id": "a2220df6",
      "metadata": {
        "id": "a2220df6"
      },
      "source": [
        "# Import Libraries"
      ]
    },
    {
      "cell_type": "code",
      "source": [
        "import os\n",
        "\n",
        "# Path where you want to create the folder\n",
        "folder_path = '/content/drive/My Drive/Colab Notebooks/Images_detection'\n",
        "\n",
        "# Create the folder if it doesn't exist\n",
        "if not os.path.exists(folder_path):\n",
        "    os.makedirs(folder_path)\n",
        "    print(\"Folder created:\", folder_path)\n",
        "else:\n",
        "    print(\"Folder already exists.\")\n"
      ],
      "metadata": {
        "colab": {
          "base_uri": "https://localhost:8080/"
        },
        "id": "hynDhSbriUWZ",
        "outputId": "28fcc664-f7e2-4ba9-8dfa-92cdcbd3b6cf"
      },
      "id": "hynDhSbriUWZ",
      "execution_count": 54,
      "outputs": [
        {
          "output_type": "stream",
          "name": "stdout",
          "text": [
            "Folder already exists.\n"
          ]
        }
      ]
    },
    {
      "cell_type": "code",
      "source": [
        "from google.colab import files\n",
        "\n",
        "uploaded = files.upload()\n",
        "\n",
        "for file_name in uploaded.keys():\n",
        "    print('Uploaded file:', file_name)\n"
      ],
      "metadata": {
        "id": "t8JeYbE5j2uL"
      },
      "id": "t8JeYbE5j2uL",
      "execution_count": null,
      "outputs": []
    },
    {
      "cell_type": "code",
      "source": [
        "import shutil\n",
        "import os\n",
        "\n",
        "# Get the name of the uploaded video file\n",
        "video_name = list(uploaded.keys())[0]\n",
        "\n",
        "# Path to the folder in your Google Drive\n",
        "folder_path = '/content/drive/My Drive/Colab Notebooks/Images_detection/'\n",
        "\n",
        "# Move the uploaded video to the specified folder\n",
        "shutil.move(video_name, os.path.join(folder_path, video_name))\n",
        "\n",
        "print(\"Video moved to Google Drive folder.\")\n"
      ],
      "metadata": {
        "colab": {
          "base_uri": "https://localhost:8080/"
        },
        "id": "sKjL0lAGkQcq",
        "outputId": "8dd96c98-951b-4f8c-b91e-16044ab16e81"
      },
      "id": "sKjL0lAGkQcq",
      "execution_count": 105,
      "outputs": [
        {
          "output_type": "stream",
          "name": "stdout",
          "text": [
            "Video moved to Google Drive folder.\n"
          ]
        }
      ]
    },
    {
      "cell_type": "code",
      "source": [
        "!pip install mtcnn"
      ],
      "metadata": {
        "id": "tE25OMNXkcKX"
      },
      "id": "tE25OMNXkcKX",
      "execution_count": null,
      "outputs": []
    },
    {
      "cell_type": "code",
      "source": [
        "# import cv2\n",
        "# from mtcnn import MTCNN\n",
        "# import os\n",
        "# from google.colab.patches import cv2_imshow\n",
        "\n",
        "# # Load the video file\n",
        "# video_path = \"/content/drive/MyDrive/Colab Notebooks/Images_detection/sa1-video-felc0.avi\"\n",
        "# cap = cv2.VideoCapture(video_path)\n",
        "\n",
        "# # Create MTCNN detector\n",
        "# detector = MTCNN()\n",
        "\n",
        "# # Set the time limit\n",
        "# end_time = cv2.getTickCount() + 30 * cv2.getTickFrequency()  # 30 seconds\n",
        "\n",
        "# # Create a folder to save images\n",
        "# output_folder = \"/content/drive/MyDrive/Colab Notebooks/Images_detection\"\n",
        "# os.makedirs(output_folder, exist_ok=True)\n",
        "\n",
        "# while cv2.waitKey(1) != ord('x'):\n",
        "#     if cv2.getTickCount() > end_time:\n",
        "#         break\n",
        "\n",
        "#     ret, frame = cap.read()\n",
        "#     if not ret:\n",
        "#         print(\"Error reading frame.\")\n",
        "#         break\n",
        "\n",
        "#     # Detect faces\n",
        "#     output = detector.detect_faces(frame)\n",
        "#     print(\"Number of faces detected:\", len(output))\n",
        "\n",
        "#     for i, single_output in enumerate(output):\n",
        "#         x, y, width, height = single_output['box']\n",
        "#         face = frame[y:y + height, x:x + width]\n",
        "\n",
        "#         # Save the face\n",
        "#         cv2.imwrite(os.path.join(output_folder, f\"face_{i}.jpg\"), face)\n",
        "\n",
        "#         # Draw rectangle around the face\n",
        "#         cv2.rectangle(frame, pt1=(x, y), pt2=(x + width, y + height), color=(255, 0, 0), thickness=3)\n",
        "\n",
        "\n",
        "#     # Show the frame\n",
        "#     cv2_imshow(frame)\n",
        "\n",
        "# # Release video capture and close windows\n",
        "# cap.release()\n",
        "# cv2.destroyAllWindows()\n"
      ],
      "metadata": {
        "id": "9vIZdeKmwVxh"
      },
      "id": "9vIZdeKmwVxh",
      "execution_count": null,
      "outputs": []
    },
    {
      "cell_type": "code",
      "source": [
        "import cv2\n",
        "from mtcnn import MTCNN\n",
        "import os\n",
        "\n",
        "# Load the video file\n",
        "video_path = \"/content/drive/MyDrive/Colab Notebooks/Images_detection/aawvkuxypy.mp4\"\n",
        "cap = cv2.VideoCapture(video_path)\n",
        "\n",
        "# Check if the video file was opened successfully\n",
        "if not cap.isOpened():\n",
        "    print(\"Error opening video file.\")\n",
        "    exit()\n",
        "\n",
        "# Create MTCNN detector\n",
        "detector = MTCNN()\n",
        "\n",
        "# Set the time limit\n",
        "end_time = cv2.getTickCount() + 30 * cv2.getTickFrequency()  # 30 seconds\n",
        "\n",
        "# Create a folder to save images\n",
        "output_folder = \"/content/drive/MyDrive/Colab Notebooks/Images_detection\"\n",
        "os.makedirs(output_folder, exist_ok=True)\n",
        "\n",
        "frame_count = 0\n",
        "while True:\n",
        "    if cv2.waitKey(1) == ord('x') or cv2.getTickCount() > end_time:\n",
        "        break\n",
        "\n",
        "    ret, frame = cap.read()\n",
        "    if not ret:\n",
        "        print(\"End of video or error reading frame.\")\n",
        "        break\n",
        "\n",
        "    # Detect faces\n",
        "    output = detector.detect_faces(frame)\n",
        "    print(\"Number of faces detected:\", len(output))\n",
        "\n",
        "    for i, single_output in enumerate(output):\n",
        "        x, y, width, height = single_output['box']\n",
        "        face = frame[y:y + height, x:x + width]\n",
        "\n",
        "        # Save the face\n",
        "        cv2.imwrite(os.path.join(output_folder, f\"face_{frame_count}_{i}.jpg\"), face)\n",
        "\n",
        "        # Draw rectangle around the face\n",
        "        cv2.rectangle(frame, pt1=(x, y), pt2=(x + width, y + height), color=(255, 0, 0), thickness=3)\n",
        "\n",
        "    # Save the frame\n",
        "    # cv2.imwrite(os.path.join(output_folder, f\"frame_{frame_count}.jpg\"), frame)\n",
        "    frame_count += 1\n",
        "    cv2_imshow(frame)\n",
        "\n",
        "# Release video capture\n",
        "cap.release()\n",
        "\n",
        "print(\"Faces saved in:\", output_folder)\n"
      ],
      "metadata": {
        "id": "wuX84Y6xQEZt"
      },
      "id": "wuX84Y6xQEZt",
      "execution_count": null,
      "outputs": []
    },
    {
      "cell_type": "code",
      "source": [
        "import os\n",
        "\n",
        "def delete_extracted_images(image_output_folder):\n",
        "    \"\"\"Delete only image files in the image output folder.\"\"\"\n",
        "    for filename in os.listdir(image_output_folder):\n",
        "        file_path = os.path.join(image_output_folder, filename)\n",
        "        if os.path.isfile(file_path):\n",
        "            if filename.lower().endswith(('.jpg', '.jpeg', '.png')):\n",
        "                try:\n",
        "                    os.remove(file_path)\n",
        "                    print(f\"Deleted {file_path}\")\n",
        "                except Exception as e:\n",
        "                    print(f\"Error deleting {file_path}: {e}\")\n",
        "\n",
        "\n",
        "\n"
      ],
      "metadata": {
        "id": "-lygApXoNXkx"
      },
      "id": "-lygApXoNXkx",
      "execution_count": 107,
      "outputs": []
    },
    {
      "cell_type": "code",
      "source": [
        "image_output_folder = \"/content/drive/MyDrive/Colab Notebooks/Images_detection\"\n"
      ],
      "metadata": {
        "id": "eruAmtbyNfwj"
      },
      "id": "eruAmtbyNfwj",
      "execution_count": 108,
      "outputs": []
    },
    {
      "cell_type": "code",
      "source": [],
      "metadata": {
        "id": "FpoEXIyENf3a"
      },
      "id": "FpoEXIyENf3a",
      "execution_count": null,
      "outputs": []
    },
    {
      "cell_type": "code",
      "source": [
        "pip install gradio"
      ],
      "metadata": {
        "id": "RZth5IvEj-U1"
      },
      "id": "RZth5IvEj-U1",
      "execution_count": null,
      "outputs": []
    },
    {
      "cell_type": "code",
      "source": [
        "pip install facenet-pytorch"
      ],
      "metadata": {
        "id": "44xt3KmOkJW3"
      },
      "id": "44xt3KmOkJW3",
      "execution_count": null,
      "outputs": []
    },
    {
      "cell_type": "code",
      "source": [
        "pip install grad-cam"
      ],
      "metadata": {
        "id": "Gy91LeeDk0v0"
      },
      "id": "Gy91LeeDk0v0",
      "execution_count": null,
      "outputs": []
    },
    {
      "cell_type": "code",
      "execution_count": 11,
      "id": "7249bea4",
      "metadata": {
        "id": "7249bea4"
      },
      "outputs": [],
      "source": [
        "import gradio as gr\n",
        "import torch\n",
        "import torch.nn.functional as F\n",
        "from facenet_pytorch import MTCNN, InceptionResnetV1\n",
        "import numpy as np\n",
        "from PIL import Image\n",
        "import cv2\n",
        "from pytorch_grad_cam import GradCAM\n",
        "from pytorch_grad_cam.utils.model_targets import ClassifierOutputTarget\n",
        "from pytorch_grad_cam.utils.image import show_cam_on_image\n",
        "import warnings\n",
        "warnings.filterwarnings(\"ignore\")"
      ]
    },
    {
      "cell_type": "code",
      "source": [
        "from google.colab import drive\n",
        "drive.mount('/content/drive')"
      ],
      "metadata": {
        "colab": {
          "base_uri": "https://localhost:8080/"
        },
        "id": "s_rYM-i3jqdb",
        "outputId": "62d56b4d-59c4-4c79-f37c-d55a4d2ddc7a"
      },
      "id": "s_rYM-i3jqdb",
      "execution_count": 1,
      "outputs": [
        {
          "output_type": "stream",
          "name": "stdout",
          "text": [
            "Mounted at /content/drive\n"
          ]
        }
      ]
    },
    {
      "cell_type": "markdown",
      "id": "d25e1c5d",
      "metadata": {
        "id": "d25e1c5d"
      },
      "source": [
        "# Download and Load Model"
      ]
    },
    {
      "cell_type": "code",
      "execution_count": 12,
      "id": "237fbf44",
      "metadata": {
        "id": "237fbf44"
      },
      "outputs": [],
      "source": [
        "DEVICE = 'cuda:0' if torch.cuda.is_available() else 'cpu'\n",
        "\n",
        "mtcnn = MTCNN(\n",
        "    select_largest=False,\n",
        "    post_process=False,\n",
        "    device=DEVICE\n",
        ").to(DEVICE).eval()"
      ]
    },
    {
      "cell_type": "code",
      "source": [
        "file_path = \"/content/drive/MyDrive/Colab Notebooks/resnetinceptionv1_epoch_32.pth\"\n",
        "\n"
      ],
      "metadata": {
        "id": "n9UO_b6Plmaq"
      },
      "id": "n9UO_b6Plmaq",
      "execution_count": 13,
      "outputs": []
    },
    {
      "cell_type": "code",
      "execution_count": null,
      "id": "f3ef2b4f",
      "metadata": {
        "id": "f3ef2b4f"
      },
      "outputs": [],
      "source": [
        "model = InceptionResnetV1(\n",
        "    pretrained=\"vggface2\",\n",
        "    classify=True,\n",
        "    num_classes=1,\n",
        "    device=DEVICE\n",
        ")\n",
        "\n",
        "file_path = \"/content/drive/MyDrive/Colab Notebooks/resnetinceptionv1_epoch_32.pth\"\n",
        "\n",
        "checkpoint = torch.load(file_path, map_location=torch.device('cpu'))\n",
        "model.load_state_dict(checkpoint['model_state_dict'])\n",
        "model.to(DEVICE)\n",
        "model.eval()"
      ]
    },
    {
      "cell_type": "markdown",
      "id": "a499194a",
      "metadata": {
        "id": "a499194a"
      },
      "source": [
        "# Model Inference"
      ]
    },
    {
      "cell_type": "code",
      "source": [
        "import matplotlib.pyplot as plt"
      ],
      "metadata": {
        "id": "jskugUOmoK09"
      },
      "id": "jskugUOmoK09",
      "execution_count": 15,
      "outputs": []
    },
    {
      "cell_type": "code",
      "source": [
        "def predict(input_image:Image.Image):\n",
        "    \"\"\"Predict the label of the input_image\"\"\"\n",
        "    # print(\"Starting prediction...\")\n",
        "\n",
        "    # Face detection\n",
        "    face = mtcnn(input_image)\n",
        "    if face is None:\n",
        "        raise Exception('No face detected')\n",
        "    # print(\"Face detected.\")\n",
        "\n",
        "    # Preprocessing\n",
        "    face = face.unsqueeze(0)  # Add the batch dimension\n",
        "    face = F.interpolate(face, size=(256, 256), mode='bilinear', align_corners=False)\n",
        "    # print(\"Image preprocessed.\")\n",
        "\n",
        "    # Visualization\n",
        "    prev_face = face.squeeze(0).permute(1, 2, 0).cpu().detach().int().numpy()\n",
        "    prev_face = prev_face.astype('uint8')\n",
        "\n",
        "    face = face.to(DEVICE)\n",
        "    face = face.to(torch.float32)\n",
        "    face = face / 255.0\n",
        "    face_image_to_plot = face.squeeze(0).permute(1, 2, 0).cpu().detach().int().numpy()\n",
        "    # print(\"Visualization prepared.\")\n",
        "\n",
        "    # Grad-CAM\n",
        "    target_layers = [model.block8.branch1[-1]]\n",
        "    use_cuda = True if torch.cuda.is_available() else False\n",
        "    cam = GradCAM(model=model, target_layers=target_layers)\n",
        "    targets = [ClassifierOutputTarget(0)]\n",
        "\n",
        "    grayscale_cam = cam(input_tensor=face, targets=targets, eigen_smooth=True)\n",
        "    grayscale_cam = grayscale_cam[0, :]\n",
        "    visualization = show_cam_on_image(face_image_to_plot, grayscale_cam, use_rgb=True)\n",
        "    face_with_mask = cv2.addWeighted(prev_face, 1, visualization, 0.5, 0)\n",
        "    # print(\"Grad-CAM visualization created.\")\n",
        "\n",
        "    # Model prediction\n",
        "    with torch.no_grad():\n",
        "        output = torch.sigmoid(model(face).squeeze(0))\n",
        "        prediction = \"real\" if output.item() < 0.5 else \"fake\"\n",
        "\n",
        "        real_prediction = 1 - output.item()\n",
        "        fake_prediction = output.item()\n",
        "\n",
        "        confidences = {\n",
        "            'real': real_prediction,\n",
        "            'fake': fake_prediction\n",
        "        }\n",
        "        # print(\"Prediction made.\")\n",
        "\n",
        "    print(\"Prediction complete.\")\n",
        "\n",
        "    return confidences, face_with_mask\n",
        "\n"
      ],
      "metadata": {
        "id": "A9nA_6Z6ZEoL"
      },
      "id": "A9nA_6Z6ZEoL",
      "execution_count": 109,
      "outputs": []
    },
    {
      "cell_type": "code",
      "source": [
        "import os\n",
        "from PIL import Image\n",
        "import matplotlib.pyplot as plt\n",
        "\n",
        "# Path to the output folder\n",
        "output_folder = \"/content/drive/MyDrive/Colab Notebooks/Images_detection\"\n",
        "\n",
        "# Get a list of all image files in the output folder\n",
        "image_files = [f for f in os.listdir(output_folder) if f.lower().endswith(('.png', '.jpg', '.jpeg', '.gif', '.bmp'))]\n",
        "\n",
        "# List to store all predictions\n",
        "predictions = []\n",
        "\n",
        "for image_file in image_files:\n",
        "    # Open the image\n",
        "    image_path = os.path.join(output_folder, image_file)\n",
        "    image = Image.open(image_path)\n",
        "\n",
        "    # Call the predict function\n",
        "    # confidences, _ = predict(image)\n",
        "    confidences, image_with_mask = predict(image)\n",
        "    plt.imshow(image_with_mask)\n",
        "    plt.title(f\"Image: {image_file} with Mask Overlay\")\n",
        "    plt.axis('off')\n",
        "    plt.show()\n",
        "\n",
        "    # Store the prediction\n",
        "    if confidences['real'] > confidences['fake']:\n",
        "        predictions.append(\"real\")\n",
        "    else:\n",
        "        predictions.append(\"fake\")\n",
        "\n",
        "# Count the votes\n",
        "vote_count = {\n",
        "    \"real\": predictions.count(\"real\"),\n",
        "    \"fake\": predictions.count(\"fake\")\n",
        "}\n",
        "\n",
        "# Determine the final result\n",
        "if vote_count[\"real\"] > vote_count[\"fake\"]:\n",
        "    final_result = \"Real\"\n",
        "else:\n",
        "    final_result = \"Fake\"\n",
        "\n",
        "# Print vote count and final result\n",
        "    # Display the image with the mask overlay\n",
        "\n",
        "print(\"Vote Count:\")\n",
        "print(\"Real:\", vote_count[\"real\"])\n",
        "print(\"Fake:\", vote_count[\"fake\"])\n",
        "print(\"Final Result:\", final_result)\n"
      ],
      "metadata": {
        "id": "SVgxlI25Yqp9"
      },
      "id": "SVgxlI25Yqp9",
      "execution_count": null,
      "outputs": []
    },
    {
      "cell_type": "code",
      "source": [
        "delete_extracted_frames(image_output_folder)"
      ],
      "metadata": {
        "id": "qioTvj5scSso"
      },
      "id": "qioTvj5scSso",
      "execution_count": null,
      "outputs": []
    },
    {
      "cell_type": "code",
      "source": [
        "# image = Image.open(\"/content/drive/MyDrive/Colab Notebooks/Images_detection/face_0.jpg\")\n",
        "\n",
        "# # Call the predict function\n",
        "# confidences, image_with_mask = predict(image)\n",
        "\n",
        "# # Display the image with the mask overlay\n",
        "# plt.imshow(image_with_mask)\n",
        "# plt.title(\"Image with Mask Overlay\")\n",
        "# plt.axis('off')\n",
        "# plt.show()\n",
        "\n",
        "# # Print the confidence scores\n",
        "# print(\"Confidence Scores:\")\n",
        "# print(\"Real:\", confidences['real'])\n",
        "# print(\"Fake:\", confidences['fake'])\n"
      ],
      "metadata": {
        "id": "KAfgKT7ZWvnu"
      },
      "id": "KAfgKT7ZWvnu",
      "execution_count": 47,
      "outputs": []
    },
    {
      "cell_type": "markdown",
      "id": "14f47b5a",
      "metadata": {
        "id": "14f47b5a"
      },
      "source": [
        "# Gradio Interface"
      ]
    },
    {
      "cell_type": "code",
      "execution_count": null,
      "id": "0c0b293c",
      "metadata": {
        "id": "0c0b293c"
      },
      "outputs": [],
      "source": [
        "# interface = gr.Interface(\n",
        "#     fn=predict,\n",
        "#     inputs=[\n",
        "#         gr.Image(label=\"Input Image\", type=\"pil\")\n",
        "#     ],\n",
        "#     outputs=[\n",
        "#         gr.Label(label=\"Class\"),\n",
        "#         gr.Image(label=\"Face with Explainability\", type=\"pil\"),\n",
        "\n",
        "#     ],\n",
        "# ).launch()"
      ]
    },
    {
      "cell_type": "code",
      "source": [],
      "metadata": {
        "id": "VTAq1ckz2WIe"
      },
      "id": "VTAq1ckz2WIe",
      "execution_count": null,
      "outputs": []
    },
    {
      "cell_type": "code",
      "source": [],
      "metadata": {
        "id": "K9rlHNd229Eh"
      },
      "id": "K9rlHNd229Eh",
      "execution_count": null,
      "outputs": []
    }
  ],
  "metadata": {
    "kernelspec": {
      "display_name": "Python 3",
      "name": "python3"
    },
    "language_info": {
      "codemirror_mode": {
        "name": "ipython",
        "version": 3
      },
      "file_extension": ".py",
      "mimetype": "text/x-python",
      "name": "python",
      "nbconvert_exporter": "python",
      "pygments_lexer": "ipython3",
      "version": "3.9.8"
    },
    "colab": {
      "provenance": [],
      "gpuType": "T4"
    },
    "accelerator": "GPU"
  },
  "nbformat": 4,
  "nbformat_minor": 5
}